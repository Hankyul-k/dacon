{
 "cells": [
  {
   "cell_type": "code",
   "execution_count": 1,
   "id": "5f85850c-393e-4b4b-adb7-acc74317e4e4",
   "metadata": {},
   "outputs": [],
   "source": [
    "import pandas as pd\n",
    "import numpy as np\n",
    "import matplotlib.pyplot as plt\n",
    "import seaborn as sns\n"
   ]
  },
  {
   "cell_type": "code",
   "execution_count": 2,
   "id": "d2873d45-9c1d-4f67-a14a-8bbb3f6c6842",
   "metadata": {},
   "outputs": [],
   "source": [
    "train = pd.read_csv('train.csv')\n",
    "test = pd.read_csv('test.csv')"
   ]
  },
  {
   "cell_type": "code",
   "execution_count": 3,
   "id": "781c66e9-ec3f-4786-bcc9-2976a72a1491",
   "metadata": {},
   "outputs": [
    {
     "data": {
      "text/html": [
       "<div>\n",
       "<style scoped>\n",
       "    .dataframe tbody tr th:only-of-type {\n",
       "        vertical-align: middle;\n",
       "    }\n",
       "\n",
       "    .dataframe tbody tr th {\n",
       "        vertical-align: top;\n",
       "    }\n",
       "\n",
       "    .dataframe thead th {\n",
       "        text-align: right;\n",
       "    }\n",
       "</style>\n",
       "<table border=\"1\" class=\"dataframe\">\n",
       "  <thead>\n",
       "    <tr style=\"text-align: right;\">\n",
       "      <th></th>\n",
       "      <th>id</th>\n",
       "      <th>Species</th>\n",
       "      <th>Island</th>\n",
       "      <th>Clutch Completion</th>\n",
       "      <th>Culmen Length (mm)</th>\n",
       "      <th>Culmen Depth (mm)</th>\n",
       "      <th>Flipper Length (mm)</th>\n",
       "      <th>Sex</th>\n",
       "      <th>Delta 15 N (o/oo)</th>\n",
       "      <th>Delta 13 C (o/oo)</th>\n",
       "      <th>Body Mass (g)</th>\n",
       "    </tr>\n",
       "  </thead>\n",
       "  <tbody>\n",
       "    <tr>\n",
       "      <th>0</th>\n",
       "      <td>0</td>\n",
       "      <td>Gentoo penguin (Pygoscelis papua)</td>\n",
       "      <td>Biscoe</td>\n",
       "      <td>Yes</td>\n",
       "      <td>50.0</td>\n",
       "      <td>15.3</td>\n",
       "      <td>220</td>\n",
       "      <td>MALE</td>\n",
       "      <td>8.30515</td>\n",
       "      <td>-25.19017</td>\n",
       "      <td>5550</td>\n",
       "    </tr>\n",
       "    <tr>\n",
       "      <th>1</th>\n",
       "      <td>1</td>\n",
       "      <td>Chinstrap penguin (Pygoscelis antarctica)</td>\n",
       "      <td>Dream</td>\n",
       "      <td>No</td>\n",
       "      <td>49.5</td>\n",
       "      <td>19.0</td>\n",
       "      <td>200</td>\n",
       "      <td>MALE</td>\n",
       "      <td>9.63074</td>\n",
       "      <td>-24.34684</td>\n",
       "      <td>3800</td>\n",
       "    </tr>\n",
       "    <tr>\n",
       "      <th>2</th>\n",
       "      <td>2</td>\n",
       "      <td>Gentoo penguin (Pygoscelis papua)</td>\n",
       "      <td>Biscoe</td>\n",
       "      <td>Yes</td>\n",
       "      <td>45.1</td>\n",
       "      <td>14.4</td>\n",
       "      <td>210</td>\n",
       "      <td>FEMALE</td>\n",
       "      <td>8.51951</td>\n",
       "      <td>-27.01854</td>\n",
       "      <td>4400</td>\n",
       "    </tr>\n",
       "    <tr>\n",
       "      <th>3</th>\n",
       "      <td>3</td>\n",
       "      <td>Gentoo penguin (Pygoscelis papua)</td>\n",
       "      <td>Biscoe</td>\n",
       "      <td>Yes</td>\n",
       "      <td>44.5</td>\n",
       "      <td>14.7</td>\n",
       "      <td>214</td>\n",
       "      <td>FEMALE</td>\n",
       "      <td>8.20106</td>\n",
       "      <td>-26.16524</td>\n",
       "      <td>4850</td>\n",
       "    </tr>\n",
       "    <tr>\n",
       "      <th>4</th>\n",
       "      <td>4</td>\n",
       "      <td>Gentoo penguin (Pygoscelis papua)</td>\n",
       "      <td>Biscoe</td>\n",
       "      <td>No</td>\n",
       "      <td>49.6</td>\n",
       "      <td>16.0</td>\n",
       "      <td>225</td>\n",
       "      <td>MALE</td>\n",
       "      <td>8.38324</td>\n",
       "      <td>-26.84272</td>\n",
       "      <td>5700</td>\n",
       "    </tr>\n",
       "  </tbody>\n",
       "</table>\n",
       "</div>"
      ],
      "text/plain": [
       "   id                                    Species  Island Clutch Completion  \\\n",
       "0   0          Gentoo penguin (Pygoscelis papua)  Biscoe               Yes   \n",
       "1   1  Chinstrap penguin (Pygoscelis antarctica)   Dream                No   \n",
       "2   2          Gentoo penguin (Pygoscelis papua)  Biscoe               Yes   \n",
       "3   3          Gentoo penguin (Pygoscelis papua)  Biscoe               Yes   \n",
       "4   4          Gentoo penguin (Pygoscelis papua)  Biscoe                No   \n",
       "\n",
       "   Culmen Length (mm)  Culmen Depth (mm)  Flipper Length (mm)     Sex  \\\n",
       "0                50.0               15.3                  220    MALE   \n",
       "1                49.5               19.0                  200    MALE   \n",
       "2                45.1               14.4                  210  FEMALE   \n",
       "3                44.5               14.7                  214  FEMALE   \n",
       "4                49.6               16.0                  225    MALE   \n",
       "\n",
       "   Delta 15 N (o/oo)  Delta 13 C (o/oo)  Body Mass (g)  \n",
       "0            8.30515          -25.19017           5550  \n",
       "1            9.63074          -24.34684           3800  \n",
       "2            8.51951          -27.01854           4400  \n",
       "3            8.20106          -26.16524           4850  \n",
       "4            8.38324          -26.84272           5700  "
      ]
     },
     "execution_count": 3,
     "metadata": {},
     "output_type": "execute_result"
    }
   ],
   "source": [
    "train.head()"
   ]
  },
  {
   "cell_type": "markdown",
   "id": "cfdc2a6d-9712-47a3-9088-d048f3b1bc47",
   "metadata": {},
   "source": [
    "<pre>\n",
    "Species: 펭귄의 종을 나타내는 문자열\n",
    "Island : 샘플들이 수집된 Palmer Station 근처 섬 이름\n",
    "Clutch Completion : 관찰된 펭귄 둥지의 알이 2개인 경우 Full Clutch이며 Yes로 표기\n",
    "Culmen Length (mm) : 펭귄 옆모습 기준 부리의 가로 길이\n",
    "Culmen Depth (mm) : 펭귄 옆모습 기준 부리의 세로 길이\n",
    "Flipper Length (mm) : 펭귄의 팔(날개) 길이\n",
    "Sex : 펭귄의 성별\n",
    "Delta 15 N (o/oo)  : 토양에 따라 변화하는 안정 동위원소 15N:14N의 비율\n",
    "Delta 13 C (o/oo) : 먹이에 따라 변화하는 안정 동위원소 13C:12C의 비율\n",
    "Body Mass (g): 펭귄의 몸무게를 나타내는 숫자 (g)"
   ]
  },
  {
   "cell_type": "code",
   "execution_count": 4,
   "id": "79ea7692-6db4-4a97-b379-9f51aa30507b",
   "metadata": {},
   "outputs": [
    {
     "name": "stdout",
     "output_type": "stream",
     "text": [
      "<class 'pandas.core.frame.DataFrame'>\n",
      "RangeIndex: 114 entries, 0 to 113\n",
      "Data columns (total 11 columns):\n",
      " #   Column               Non-Null Count  Dtype  \n",
      "---  ------               --------------  -----  \n",
      " 0   id                   114 non-null    int64  \n",
      " 1   Species              114 non-null    object \n",
      " 2   Island               114 non-null    object \n",
      " 3   Clutch Completion    114 non-null    object \n",
      " 4   Culmen Length (mm)   114 non-null    float64\n",
      " 5   Culmen Depth (mm)    114 non-null    float64\n",
      " 6   Flipper Length (mm)  114 non-null    int64  \n",
      " 7   Sex                  111 non-null    object \n",
      " 8   Delta 15 N (o/oo)    111 non-null    float64\n",
      " 9   Delta 13 C (o/oo)    111 non-null    float64\n",
      " 10  Body Mass (g)        114 non-null    int64  \n",
      "dtypes: float64(4), int64(3), object(4)\n",
      "memory usage: 9.9+ KB\n"
     ]
    }
   ],
   "source": [
    "train.info()"
   ]
  },
  {
   "cell_type": "code",
   "execution_count": 5,
   "id": "7c7578ff-c673-4096-b4f1-a51e719e00b2",
   "metadata": {},
   "outputs": [
    {
     "name": "stdout",
     "output_type": "stream",
     "text": [
      "<class 'pandas.core.frame.DataFrame'>\n",
      "RangeIndex: 228 entries, 0 to 227\n",
      "Data columns (total 10 columns):\n",
      " #   Column               Non-Null Count  Dtype  \n",
      "---  ------               --------------  -----  \n",
      " 0   id                   228 non-null    int64  \n",
      " 1   Species              228 non-null    object \n",
      " 2   Island               228 non-null    object \n",
      " 3   Clutch Completion    228 non-null    object \n",
      " 4   Culmen Length (mm)   228 non-null    float64\n",
      " 5   Culmen Depth (mm)    228 non-null    float64\n",
      " 6   Flipper Length (mm)  228 non-null    float64\n",
      " 7   Sex                  222 non-null    object \n",
      " 8   Delta 15 N (o/oo)    219 non-null    float64\n",
      " 9   Delta 13 C (o/oo)    220 non-null    float64\n",
      "dtypes: float64(5), int64(1), object(4)\n",
      "memory usage: 17.9+ KB\n"
     ]
    }
   ],
   "source": [
    "test.info()"
   ]
  },
  {
   "cell_type": "code",
   "execution_count": 7,
   "id": "eba9dd83-4741-4b98-b4a3-f661d998d55a",
   "metadata": {},
   "outputs": [],
   "source": [
    "# 컬럼 정리\n",
    "train.columns = ['id','species','island','clutch_completion','culmen_length','culmen_depth','flipper_length','sex','delta_15n','delta_13c','body_mass']\n",
    "test.columns = ['id','island','clutch_completion','culmen_length','culmen_depth','flipper_length','sex','delta_15n','delta_13c','body_mass']"
   ]
  },
  {
   "cell_type": "code",
   "execution_count": 8,
   "id": "35e65a64-83ce-4a38-b09e-32cdca1423fa",
   "metadata": {},
   "outputs": [
    {
     "data": {
      "text/plain": [
       "(114, 11)"
      ]
     },
     "execution_count": 8,
     "metadata": {},
     "output_type": "execute_result"
    }
   ],
   "source": [
    "train.shape"
   ]
  },
  {
   "cell_type": "code",
   "execution_count": 9,
   "id": "8f7dbed2-7128-4e6c-9ca5-5dc1285a094b",
   "metadata": {},
   "outputs": [
    {
     "data": {
      "text/plain": [
       "(228, 10)"
      ]
     },
     "execution_count": 9,
     "metadata": {},
     "output_type": "execute_result"
    }
   ],
   "source": [
    "test.shape"
   ]
  },
  {
   "cell_type": "markdown",
   "id": "3f99a8d8-e8e9-468f-8e86-d313846ebd93",
   "metadata": {},
   "source": [
    "### 결측 확인"
   ]
  },
  {
   "cell_type": "code",
   "execution_count": 10,
   "id": "6969be0d-7235-43ca-af07-5cbc127f75ce",
   "metadata": {},
   "outputs": [
    {
     "data": {
      "text/plain": [
       "id                   0\n",
       "species              0\n",
       "island               0\n",
       "clutch_completion    0\n",
       "culmen_length        0\n",
       "culmen_depth         0\n",
       "flipper_length       0\n",
       "sex                  3\n",
       "delta_15n            3\n",
       "delta_13c            3\n",
       "body_mass            0\n",
       "dtype: int64"
      ]
     },
     "execution_count": 10,
     "metadata": {},
     "output_type": "execute_result"
    }
   ],
   "source": [
    "# 결측값\n",
    "train.isna().sum()"
   ]
  },
  {
   "cell_type": "code",
   "execution_count": 11,
   "id": "81973e4c-61c8-4906-bb97-04cfbd48536c",
   "metadata": {},
   "outputs": [
    {
     "data": {
      "text/html": [
       "<div>\n",
       "<style scoped>\n",
       "    .dataframe tbody tr th:only-of-type {\n",
       "        vertical-align: middle;\n",
       "    }\n",
       "\n",
       "    .dataframe tbody tr th {\n",
       "        vertical-align: top;\n",
       "    }\n",
       "\n",
       "    .dataframe thead th {\n",
       "        text-align: right;\n",
       "    }\n",
       "</style>\n",
       "<table border=\"1\" class=\"dataframe\">\n",
       "  <thead>\n",
       "    <tr style=\"text-align: right;\">\n",
       "      <th></th>\n",
       "      <th>id</th>\n",
       "      <th>species</th>\n",
       "      <th>island</th>\n",
       "      <th>clutch_completion</th>\n",
       "      <th>culmen_length</th>\n",
       "      <th>culmen_depth</th>\n",
       "      <th>flipper_length</th>\n",
       "      <th>sex</th>\n",
       "      <th>delta_15n</th>\n",
       "      <th>delta_13c</th>\n",
       "      <th>body_mass</th>\n",
       "    </tr>\n",
       "  </thead>\n",
       "  <tbody>\n",
       "    <tr>\n",
       "      <th>6</th>\n",
       "      <td>6</td>\n",
       "      <td>Adelie Penguin (Pygoscelis adeliae)</td>\n",
       "      <td>Torgersen</td>\n",
       "      <td>Yes</td>\n",
       "      <td>42.0</td>\n",
       "      <td>20.2</td>\n",
       "      <td>190</td>\n",
       "      <td>NaN</td>\n",
       "      <td>9.13362</td>\n",
       "      <td>-25.09368</td>\n",
       "      <td>4250</td>\n",
       "    </tr>\n",
       "    <tr>\n",
       "      <th>8</th>\n",
       "      <td>8</td>\n",
       "      <td>Adelie Penguin (Pygoscelis adeliae)</td>\n",
       "      <td>Torgersen</td>\n",
       "      <td>Yes</td>\n",
       "      <td>34.1</td>\n",
       "      <td>18.1</td>\n",
       "      <td>193</td>\n",
       "      <td>NaN</td>\n",
       "      <td>NaN</td>\n",
       "      <td>NaN</td>\n",
       "      <td>3475</td>\n",
       "    </tr>\n",
       "    <tr>\n",
       "      <th>70</th>\n",
       "      <td>70</td>\n",
       "      <td>Gentoo penguin (Pygoscelis papua)</td>\n",
       "      <td>Biscoe</td>\n",
       "      <td>Yes</td>\n",
       "      <td>46.2</td>\n",
       "      <td>14.4</td>\n",
       "      <td>214</td>\n",
       "      <td>NaN</td>\n",
       "      <td>8.24253</td>\n",
       "      <td>-26.81540</td>\n",
       "      <td>4650</td>\n",
       "    </tr>\n",
       "  </tbody>\n",
       "</table>\n",
       "</div>"
      ],
      "text/plain": [
       "    id                              species     island clutch_completion  \\\n",
       "6    6  Adelie Penguin (Pygoscelis adeliae)  Torgersen               Yes   \n",
       "8    8  Adelie Penguin (Pygoscelis adeliae)  Torgersen               Yes   \n",
       "70  70    Gentoo penguin (Pygoscelis papua)     Biscoe               Yes   \n",
       "\n",
       "    culmen_length  culmen_depth  flipper_length  sex  delta_15n  delta_13c  \\\n",
       "6            42.0          20.2             190  NaN    9.13362  -25.09368   \n",
       "8            34.1          18.1             193  NaN        NaN        NaN   \n",
       "70           46.2          14.4             214  NaN    8.24253  -26.81540   \n",
       "\n",
       "    body_mass  \n",
       "6        4250  \n",
       "8        3475  \n",
       "70       4650  "
      ]
     },
     "execution_count": 11,
     "metadata": {},
     "output_type": "execute_result"
    }
   ],
   "source": [
    "train[train['sex'].isnull()]"
   ]
  },
  {
   "cell_type": "code",
   "execution_count": 12,
   "id": "a640a64b-f8ba-4cda-85ab-0a4b015453cd",
   "metadata": {},
   "outputs": [
    {
     "data": {
      "text/html": [
       "<div>\n",
       "<style scoped>\n",
       "    .dataframe tbody tr th:only-of-type {\n",
       "        vertical-align: middle;\n",
       "    }\n",
       "\n",
       "    .dataframe tbody tr th {\n",
       "        vertical-align: top;\n",
       "    }\n",
       "\n",
       "    .dataframe thead th {\n",
       "        text-align: right;\n",
       "    }\n",
       "</style>\n",
       "<table border=\"1\" class=\"dataframe\">\n",
       "  <thead>\n",
       "    <tr style=\"text-align: right;\">\n",
       "      <th></th>\n",
       "      <th>id</th>\n",
       "      <th>species</th>\n",
       "      <th>island</th>\n",
       "      <th>clutch_completion</th>\n",
       "      <th>culmen_length</th>\n",
       "      <th>culmen_depth</th>\n",
       "      <th>flipper_length</th>\n",
       "      <th>sex</th>\n",
       "      <th>delta_15n</th>\n",
       "      <th>delta_13c</th>\n",
       "      <th>body_mass</th>\n",
       "    </tr>\n",
       "  </thead>\n",
       "  <tbody>\n",
       "    <tr>\n",
       "      <th>8</th>\n",
       "      <td>8</td>\n",
       "      <td>Adelie Penguin (Pygoscelis adeliae)</td>\n",
       "      <td>Torgersen</td>\n",
       "      <td>Yes</td>\n",
       "      <td>34.1</td>\n",
       "      <td>18.1</td>\n",
       "      <td>193</td>\n",
       "      <td>NaN</td>\n",
       "      <td>NaN</td>\n",
       "      <td>NaN</td>\n",
       "      <td>3475</td>\n",
       "    </tr>\n",
       "    <tr>\n",
       "      <th>18</th>\n",
       "      <td>18</td>\n",
       "      <td>Adelie Penguin (Pygoscelis adeliae)</td>\n",
       "      <td>Dream</td>\n",
       "      <td>No</td>\n",
       "      <td>39.8</td>\n",
       "      <td>19.1</td>\n",
       "      <td>184</td>\n",
       "      <td>MALE</td>\n",
       "      <td>NaN</td>\n",
       "      <td>NaN</td>\n",
       "      <td>4650</td>\n",
       "    </tr>\n",
       "    <tr>\n",
       "      <th>109</th>\n",
       "      <td>109</td>\n",
       "      <td>Adelie Penguin (Pygoscelis adeliae)</td>\n",
       "      <td>Torgersen</td>\n",
       "      <td>Yes</td>\n",
       "      <td>36.6</td>\n",
       "      <td>17.8</td>\n",
       "      <td>185</td>\n",
       "      <td>FEMALE</td>\n",
       "      <td>NaN</td>\n",
       "      <td>NaN</td>\n",
       "      <td>3700</td>\n",
       "    </tr>\n",
       "  </tbody>\n",
       "</table>\n",
       "</div>"
      ],
      "text/plain": [
       "      id                              species     island clutch_completion  \\\n",
       "8      8  Adelie Penguin (Pygoscelis adeliae)  Torgersen               Yes   \n",
       "18    18  Adelie Penguin (Pygoscelis adeliae)      Dream                No   \n",
       "109  109  Adelie Penguin (Pygoscelis adeliae)  Torgersen               Yes   \n",
       "\n",
       "     culmen_length  culmen_depth  flipper_length     sex  delta_15n  \\\n",
       "8             34.1          18.1             193     NaN        NaN   \n",
       "18            39.8          19.1             184    MALE        NaN   \n",
       "109           36.6          17.8             185  FEMALE        NaN   \n",
       "\n",
       "     delta_13c  body_mass  \n",
       "8          NaN       3475  \n",
       "18         NaN       4650  \n",
       "109        NaN       3700  "
      ]
     },
     "execution_count": 12,
     "metadata": {},
     "output_type": "execute_result"
    }
   ],
   "source": [
    "train[train['delta_15n'].isnull()]"
   ]
  },
  {
   "cell_type": "markdown",
   "id": "62d01ad5-2366-44f1-9653-d0a0ec22d0d8",
   "metadata": {},
   "source": [
    "### 분포 확인"
   ]
  },
  {
   "cell_type": "code",
   "execution_count": 13,
   "id": "62ffa8bf-5d4c-43c9-97f3-537e8c1b476d",
   "metadata": {},
   "outputs": [
    {
     "data": {
      "text/html": [
       "<div>\n",
       "<style scoped>\n",
       "    .dataframe tbody tr th:only-of-type {\n",
       "        vertical-align: middle;\n",
       "    }\n",
       "\n",
       "    .dataframe tbody tr th {\n",
       "        vertical-align: top;\n",
       "    }\n",
       "\n",
       "    .dataframe thead th {\n",
       "        text-align: right;\n",
       "    }\n",
       "</style>\n",
       "<table border=\"1\" class=\"dataframe\">\n",
       "  <thead>\n",
       "    <tr style=\"text-align: right;\">\n",
       "      <th></th>\n",
       "      <th>id</th>\n",
       "      <th>culmen_length</th>\n",
       "      <th>culmen_depth</th>\n",
       "      <th>flipper_length</th>\n",
       "      <th>delta_15n</th>\n",
       "      <th>delta_13c</th>\n",
       "      <th>body_mass</th>\n",
       "    </tr>\n",
       "  </thead>\n",
       "  <tbody>\n",
       "    <tr>\n",
       "      <th>count</th>\n",
       "      <td>114.000000</td>\n",
       "      <td>114.000000</td>\n",
       "      <td>114.000000</td>\n",
       "      <td>114.000000</td>\n",
       "      <td>111.000000</td>\n",
       "      <td>111.000000</td>\n",
       "      <td>114.000000</td>\n",
       "    </tr>\n",
       "    <tr>\n",
       "      <th>mean</th>\n",
       "      <td>56.500000</td>\n",
       "      <td>44.613158</td>\n",
       "      <td>17.014912</td>\n",
       "      <td>203.052632</td>\n",
       "      <td>8.737634</td>\n",
       "      <td>-25.723051</td>\n",
       "      <td>4327.850877</td>\n",
       "    </tr>\n",
       "    <tr>\n",
       "      <th>std</th>\n",
       "      <td>33.052988</td>\n",
       "      <td>5.321829</td>\n",
       "      <td>1.941363</td>\n",
       "      <td>14.653425</td>\n",
       "      <td>0.567698</td>\n",
       "      <td>0.859786</td>\n",
       "      <td>781.766484</td>\n",
       "    </tr>\n",
       "    <tr>\n",
       "      <th>min</th>\n",
       "      <td>0.000000</td>\n",
       "      <td>33.500000</td>\n",
       "      <td>13.200000</td>\n",
       "      <td>174.000000</td>\n",
       "      <td>7.632200</td>\n",
       "      <td>-27.018540</td>\n",
       "      <td>2700.000000</td>\n",
       "    </tr>\n",
       "    <tr>\n",
       "      <th>25%</th>\n",
       "      <td>28.250000</td>\n",
       "      <td>40.325000</td>\n",
       "      <td>15.225000</td>\n",
       "      <td>190.000000</td>\n",
       "      <td>8.272585</td>\n",
       "      <td>-26.434025</td>\n",
       "      <td>3675.000000</td>\n",
       "    </tr>\n",
       "    <tr>\n",
       "      <th>50%</th>\n",
       "      <td>56.500000</td>\n",
       "      <td>45.200000</td>\n",
       "      <td>17.250000</td>\n",
       "      <td>199.000000</td>\n",
       "      <td>8.632590</td>\n",
       "      <td>-25.955410</td>\n",
       "      <td>4250.000000</td>\n",
       "    </tr>\n",
       "    <tr>\n",
       "      <th>75%</th>\n",
       "      <td>84.750000</td>\n",
       "      <td>49.075000</td>\n",
       "      <td>18.600000</td>\n",
       "      <td>216.000000</td>\n",
       "      <td>9.264635</td>\n",
       "      <td>-25.005945</td>\n",
       "      <td>4850.000000</td>\n",
       "    </tr>\n",
       "    <tr>\n",
       "      <th>max</th>\n",
       "      <td>113.000000</td>\n",
       "      <td>55.100000</td>\n",
       "      <td>21.100000</td>\n",
       "      <td>231.000000</td>\n",
       "      <td>10.025440</td>\n",
       "      <td>-24.102550</td>\n",
       "      <td>6300.000000</td>\n",
       "    </tr>\n",
       "  </tbody>\n",
       "</table>\n",
       "</div>"
      ],
      "text/plain": [
       "               id  culmen_length  culmen_depth  flipper_length   delta_15n  \\\n",
       "count  114.000000     114.000000    114.000000      114.000000  111.000000   \n",
       "mean    56.500000      44.613158     17.014912      203.052632    8.737634   \n",
       "std     33.052988       5.321829      1.941363       14.653425    0.567698   \n",
       "min      0.000000      33.500000     13.200000      174.000000    7.632200   \n",
       "25%     28.250000      40.325000     15.225000      190.000000    8.272585   \n",
       "50%     56.500000      45.200000     17.250000      199.000000    8.632590   \n",
       "75%     84.750000      49.075000     18.600000      216.000000    9.264635   \n",
       "max    113.000000      55.100000     21.100000      231.000000   10.025440   \n",
       "\n",
       "        delta_13c    body_mass  \n",
       "count  111.000000   114.000000  \n",
       "mean   -25.723051  4327.850877  \n",
       "std      0.859786   781.766484  \n",
       "min    -27.018540  2700.000000  \n",
       "25%    -26.434025  3675.000000  \n",
       "50%    -25.955410  4250.000000  \n",
       "75%    -25.005945  4850.000000  \n",
       "max    -24.102550  6300.000000  "
      ]
     },
     "execution_count": 13,
     "metadata": {},
     "output_type": "execute_result"
    }
   ],
   "source": [
    "train.describe()"
   ]
  },
  {
   "cell_type": "code",
   "execution_count": 14,
   "id": "6bf1f100-7676-46e9-970e-c3c7544f1e2f",
   "metadata": {},
   "outputs": [
    {
     "data": {
      "text/html": [
       "<div>\n",
       "<style scoped>\n",
       "    .dataframe tbody tr th:only-of-type {\n",
       "        vertical-align: middle;\n",
       "    }\n",
       "\n",
       "    .dataframe tbody tr th {\n",
       "        vertical-align: top;\n",
       "    }\n",
       "\n",
       "    .dataframe thead th {\n",
       "        text-align: right;\n",
       "    }\n",
       "</style>\n",
       "<table border=\"1\" class=\"dataframe\">\n",
       "  <thead>\n",
       "    <tr style=\"text-align: right;\">\n",
       "      <th></th>\n",
       "      <th>species</th>\n",
       "      <th>island</th>\n",
       "      <th>clutch_completion</th>\n",
       "      <th>sex</th>\n",
       "    </tr>\n",
       "  </thead>\n",
       "  <tbody>\n",
       "    <tr>\n",
       "      <th>count</th>\n",
       "      <td>114</td>\n",
       "      <td>114</td>\n",
       "      <td>114</td>\n",
       "      <td>111</td>\n",
       "    </tr>\n",
       "    <tr>\n",
       "      <th>unique</th>\n",
       "      <td>3</td>\n",
       "      <td>3</td>\n",
       "      <td>2</td>\n",
       "      <td>2</td>\n",
       "    </tr>\n",
       "    <tr>\n",
       "      <th>top</th>\n",
       "      <td>Gentoo penguin (Pygoscelis papua)</td>\n",
       "      <td>Biscoe</td>\n",
       "      <td>Yes</td>\n",
       "      <td>MALE</td>\n",
       "    </tr>\n",
       "    <tr>\n",
       "      <th>freq</th>\n",
       "      <td>48</td>\n",
       "      <td>57</td>\n",
       "      <td>102</td>\n",
       "      <td>56</td>\n",
       "    </tr>\n",
       "  </tbody>\n",
       "</table>\n",
       "</div>"
      ],
      "text/plain": [
       "                                  species  island clutch_completion   sex\n",
       "count                                 114     114               114   111\n",
       "unique                                  3       3                 2     2\n",
       "top     Gentoo penguin (Pygoscelis papua)  Biscoe               Yes  MALE\n",
       "freq                                   48      57               102    56"
      ]
     },
     "execution_count": 14,
     "metadata": {},
     "output_type": "execute_result"
    }
   ],
   "source": [
    "train.describe(include='object')"
   ]
  },
  {
   "cell_type": "code",
   "execution_count": 15,
   "id": "9dbfdf1e-3e3a-44da-a53a-b89a7fb0d1ad",
   "metadata": {},
   "outputs": [
    {
     "data": {
      "image/png": "[encoded data removed]",
      "text/plain": [
       "<Figure size 432x432 with 9 Axes>"
      ]
     },
     "metadata": {
      "needs_background": "light"
     },
     "output_type": "display_data"
    }
   ],
   "source": [
    "train.hist(figsize=(6,6))\n",
    "plt.show()"
   ]
  },
  {
   "cell_type": "code",
   "execution_count": 16,
   "id": "7e66af41-7a30-4ec1-aafa-21057ced3664",
   "metadata": {},
   "outputs": [],
   "source": [
    "# id 삭제\n",
    "for df in [train,test]:\n",
    "    df.drop('id',axis=1,inplace=True)"
   ]
  },
  {
   "cell_type": "code",
   "execution_count": null,
   "id": "ec6d7128-0dff-4363-bf84-76f11b0daa41",
   "metadata": {},
   "outputs": [],
   "source": []
  }
 ],
 "metadata": {
  "kernelspec": {
   "display_name": "Python 3 (ipykernel)",
   "language": "python",
   "name": "python3"
  },
  "language_info": {
   "codemirror_mode": {
    "name": "ipython",
    "version": 3
   },
   "file_extension": ".py",
   "mimetype": "text/x-python",
   "name": "python",
   "nbconvert_exporter": "python",
   "pygments_lexer": "ipython3",
   "version": "3.8.9"
  }
 },
 "nbformat": 4,
 "nbformat_minor": 5
}
